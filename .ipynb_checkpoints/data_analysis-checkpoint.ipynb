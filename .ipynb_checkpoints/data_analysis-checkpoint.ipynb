{
 "cells": [
  {
   "cell_type": "markdown",
   "id": "ac2452a4",
   "metadata": {},
   "source": [
    "# **Dự án phân tích dữ liệu thương mại điện tử - Phân tích dữ liệu**\n",
    "\n",
    "## Mục tiêu\n",
    "- Phân tích dữ liệu đã làm sạch để tìm insight về doanh thu, sản phẩm bán chạy, và hành vi khách hàng.\n",
    "- Chuẩn bị dữ liệu cho trực quan hóa và báo cáo.\n",
    "\n",
    "## Dữ liệu đầu vào\n",
    "- `cleaned_orders.csv`: Thông tin đơn hàng đã làm sạch (~99,441 dòng).\n",
    "- `cleaned_order_items.csv`: Chi tiết sản phẩm đã làm sạch (~112,650 dòng)."
   ]
  },
  {
   "cell_type": "code",
   "execution_count": 3,
   "id": "a6c95985",
   "metadata": {
    "collapsed": true,
    "jupyter": {
     "outputs_hidden": true
    }
   },
   "outputs": [
    {
     "name": "stdout",
     "output_type": "stream",
     "text": [
      "Kiểu dữ liệu của orders:\n",
      "order_id                         object\n",
      "customer_id                      object\n",
      "order_status                     object\n",
      "order_purchase_timestamp         object\n",
      "order_approved_at                object\n",
      "order_delivered_carrier_date     object\n",
      "order_delivered_customer_date    object\n",
      "order_estimated_delivery_date    object\n",
      "dtype: object\n",
      "\n",
      "Kiểu dữ liệu của order_items:\n",
      "order_id                object\n",
      "order_item_id            int64\n",
      "product_id              object\n",
      "seller_id               object\n",
      "shipping_limit_date     object\n",
      "price                  float64\n",
      "freight_value          float64\n",
      "dtype: object\n",
      "\n",
      "Kiểu dữ liệu của products:\n",
      "product_id                     object\n",
      "product_category_name          object\n",
      "product_name_lenght           float64\n",
      "product_description_lenght    float64\n",
      "product_photos_qty            float64\n",
      "product_weight_g              float64\n",
      "product_length_cm             float64\n",
      "product_height_cm             float64\n",
      "product_width_cm              float64\n",
      "dtype: object\n",
      "\n",
      "Kích thước orders: (99441, 8)\n",
      "Kích thước order_items: (112650, 7)\n",
      "Kích thước products: (32951, 9)\n"
     ]
    }
   ],
   "source": [
    "# Import thư viện cần thiết\n",
    "import pandas as pd\n",
    "import numpy as np\n",
    "\n",
    "# Đọc file CSV đã làm sạch\n",
    "orders = pd.read_csv('D:/Ecommerce_Analysis/data/cleaned_data/cleaned_orders.csv')\n",
    "order_items = pd.read_csv('D:/Ecommerce_Analysis/data/cleaned_data/cleaned_order_items.csv')\n",
    "products = pd.read_csv('D:/Ecommerce_Analysis/data/cleaned_data/cleaned_products.csv')\n",
    "\n",
    "\n",
    "\n",
    "# Xác nhận kiểu dữ liệu và kích thước\n",
    "print(\"Kiểu dữ liệu của orders:\")\n",
    "print(orders.dtypes)\n",
    "print(\"\\nKiểu dữ liệu của order_items:\")\n",
    "print(order_items.dtypes)\n",
    "print(\"\\nKiểu dữ liệu của products:\")\n",
    "print(products.dtypes)\n",
    "print(\"\\nKích thước orders:\", orders.shape)\n",
    "print(\"Kích thước order_items:\", order_items.shape)\n",
    "print(\"Kích thước products:\", products.shape)"
   ]
  },
  {
   "cell_type": "code",
   "execution_count": 6,
   "id": "d808f084-f84d-4391-83bd-fdf9af010f14",
   "metadata": {
    "collapsed": true,
    "jupyter": {
     "outputs_hidden": true
    }
   },
   "outputs": [
    {
     "name": "stdout",
     "output_type": "stream",
     "text": [
      "\n",
      "Kiểu dữ liệu sau khi chuyển đổi:\n",
      "\n",
      "orders:\n",
      "order_id                                 object\n",
      "customer_id                              object\n",
      "order_status                             object\n",
      "order_purchase_timestamp         datetime64[ns]\n",
      "order_approved_at                datetime64[ns]\n",
      "order_delivered_carrier_date     datetime64[ns]\n",
      "order_delivered_customer_date    datetime64[ns]\n",
      "order_estimated_delivery_date    datetime64[ns]\n",
      "dtype: object\n",
      "\n",
      "order_items:\n",
      "order_id                       object\n",
      "order_item_id                   int64\n",
      "product_id                     object\n",
      "seller_id                      object\n",
      "shipping_limit_date    datetime64[ns]\n",
      "price                         float64\n",
      "freight_value                 float64\n",
      "dtype: object\n",
      "\n",
      "products:\n",
      "product_id                     object\n",
      "product_category_name          object\n",
      "product_name_lenght           float64\n",
      "product_description_lenght    float64\n",
      "product_photos_qty            float64\n",
      "product_weight_g              float64\n",
      "product_length_cm             float64\n",
      "product_height_cm             float64\n",
      "product_width_cm              float64\n",
      "dtype: object\n"
     ]
    }
   ],
   "source": [
    "# Vì lưu file CSV có thể mất định dạng datetime, cần khôi phục\n",
    "# Chuyển đổi lại các cột thời gian trong orders\n",
    "date_columns = [\n",
    "    'order_purchase_timestamp',\n",
    "    'order_approved_at',\n",
    "    'order_delivered_carrier_date',\n",
    "    'order_delivered_customer_date',\n",
    "    'order_estimated_delivery_date'\n",
    "]\n",
    "for col in date_columns:\n",
    "    orders[col] = pd.to_datetime(orders[col], errors='coerce')\n",
    "\n",
    "# Chuyển đổi shipping_limit_date trong order_items\n",
    "order_items['shipping_limit_date'] = pd.to_datetime(order_items['shipping_limit_date'], errors='coerce')\n",
    "\n",
    "# Kiểm tra lại\n",
    "print(\"\\nKiểu dữ liệu sau khi chuyển đổi:\")\n",
    "print(\"\\norders:\")\n",
    "print(orders.dtypes)\n",
    "print(\"\\norder_items:\")\n",
    "print(order_items.dtypes)\n",
    "print(\"\\nproducts:\")\n",
    "print(products.dtypes)"
   ]
  },
  {
   "cell_type": "markdown",
   "id": "9c9c04a7-2afb-4f8d-84d6-8da8b204dc37",
   "metadata": {},
   "source": [
    "## **Câu hỏi kinh doanh (Business Questions)**\n",
    "- a1. Sản phẩm nào bán chạy nhất trong các tháng?\n",
    "- a2. Doanh thu theo danh mục sản phẩm như thế nào?\n",
    "- b2. Khách hàng thường mua vào thời gian nào trong ngày/tuần?\n",
    "- b3. Tỷ lệ khách hàng quay lại mua lần 2 là bao nhiêu?\n",
    "- b4. Thời gian trung bình giữa các lần mua là bao lâu?\n",
    "- c1. Thời gian giao hàng trung bình là bao lâu?\n",
    "- c2. Có bao nhiêu đơn bị giao trễ? Tỷ lệ là bao nhiêu?\n",
    "- e1. Doanh thu tháng sau dự kiến là bao nhiêu?\n",
    "- e2. Xu hướng đơn hàng theo tuần/tháng có tăng hay giảm?\n",
    "- e3. Sản phẩm nào đang có xu hướng tăng trưởng nhanh?\n",
    "### Ghi chú\n",
    "- Sẽ tập trung vào 10 câu hỏi này trong bước đầu.\n",
    "- Có thể mở rộng sang các file khác (như `order_payments`, `oder_review`) nếu cần."
   ]
  },
  {
   "cell_type": "markdown",
   "id": "f6ce6f00-84c0-495f-9130-1aa8014e1ac4",
   "metadata": {},
   "source": [
    "### **Phân tích 1 (a1): Sản phẩm bán chạy nhất trong các tháng**"
   ]
  },
  {
   "cell_type": "code",
   "execution_count": 15,
   "id": "4419fabc-e9dd-4e75-bc2b-9c62b164f757",
   "metadata": {
    "collapsed": true,
    "jupyter": {
     "outputs_hidden": true
    }
   },
   "outputs": [
    {
     "name": "stdout",
     "output_type": "stream",
     "text": [
      "Sản phẩm bán chạy nhất theo tháng:\n",
      "         month                        product_id  quantity_sold\n",
      "0      2016-09  5a6b04657a4c5ee34285d1e4619a96b4              3\n",
      "257    2016-10  eba7488e1c67729f045ab43fac426f2e             11\n",
      "278    2016-12  f5d8f4fbc70ca2a0038b9a0010ed5cb0              1\n",
      "413    2017-01  37eb69aca8718e843d897aa7b82f462d             15\n",
      "1704   2017-02  a703f5ade6e4fae527357132230ea778             13\n",
      "3013   2017-03  7e0dc102074f8285580c9777f79c90cf             45\n",
      "4902   2017-04  99a4788cb24856965c36a24e339b6058             34\n",
      "7009   2017-05  99a4788cb24856965c36a24e339b6058             58\n",
      "8489   2017-06  42a2c92a0979a949ca4ea89ec5c7b934             73\n",
      "11522  2017-07  99a4788cb24856965c36a24e339b6058             60\n",
      "15243  2017-08  f1c7f353075ce59d8a6f3cf58f419c9c             52\n",
      "16139  2017-09  422879e10f46682990de24d770e7f83d             37\n",
      "18990  2017-10  422879e10f46682990de24d770e7f83d             39\n",
      "22319  2017-11  422879e10f46682990de24d770e7f83d             91\n",
      "26594  2017-12  422879e10f46682990de24d770e7f83d             51\n",
      "31843  2018-01  aca2eb7d00ea1a7b8ebd4e68314663af            122\n",
      "36608  2018-02  e53e557d5a159f5aa2c5e995dfdf244b             71\n",
      "39870  2018-03  aca2eb7d00ea1a7b8ebd4e68314663af             65\n",
      "42622  2018-04  53b36df67ebb7c41585e8d54d6772e08             85\n",
      "46884  2018-05  53b36df67ebb7c41585e8d54d6772e08            114\n",
      "50036  2018-06  19c91ef95d509ea33eda93495c4d3481             43\n",
      "57095  2018-07  d285360f29ac7fd97640bf0baef03de0             45\n",
      "61767  2018-08  e7cc48a9daff5436f63d3aad9426f28b             68\n",
      "62175  2018-09  b98992ea80b467987a7fbb88e7f2076a              1\n"
     ]
    }
   ],
   "source": [
    "# Thêm cột tháng từ order_purchase_timestamp\n",
    "orders['month'] = orders['order_purchase_timestamp'].dt.to_period('M')\n",
    "\n",
    "# Gộp dữ liệu để tính số lượng theo product_id và tháng\n",
    "merged_data = pd.merge(order_items, orders[['order_id', 'month']], on='order_id', how='left')\n",
    "top_products_by_month = merged_data.groupby(['month', 'product_id']).size().reset_index(name='quantity_sold')\n",
    "\n",
    "# Lấy sản phẩm bán chạy nhất mỗi tháng\n",
    "top_products_monthly = top_products_by_month.loc[top_products_by_month.groupby('month')['quantity_sold'].idxmax()]\n",
    "print(\"Sản phẩm bán chạy nhất theo tháng:\")\n",
    "print(top_products_monthly)"
   ]
  },
  {
   "cell_type": "markdown",
   "id": "86a261c8-10ec-4457-9e69-d0bfcb783708",
   "metadata": {},
   "source": [
    "### **Phân tích 2 (a2): Doanh thu theo danh mục sản phẩm như thế nào?**"
   ]
  },
  {
   "cell_type": "code",
   "execution_count": 10,
   "id": "b11d31c7-48da-4f26-8dbe-c9245e2b6f9f",
   "metadata": {
    "collapsed": true,
    "jupyter": {
     "outputs_hidden": true
    }
   },
   "outputs": [
    {
     "name": "stdout",
     "output_type": "stream",
     "text": [
      "Top 5 danh mục sản phẩm có doanh thu cao nhất:\n",
      "product_category_name\n",
      "beleza_saude              1258681.34\n",
      "relogios_presentes        1205005.68\n",
      "cama_mesa_banho           1036988.68\n",
      "esporte_lazer              988048.97\n",
      "informatica_acessorios     911954.32\n",
      "Name: price, dtype: float64\n"
     ]
    }
   ],
   "source": [
    "# Tính tổng doanh thu theo product_id\n",
    "merged_data_category = pd.merge(order_items, products[['product_id', 'product_category_name']], on='product_id', how='left')\n",
    "revenue_by_product = merged_data_category.groupby('product_category_name')['price'].sum().sort_values(ascending=False).head(5)\n",
    "print(\"Top 5 danh mục sản phẩm có doanh thu cao nhất:\")\n",
    "print(revenue_by_product)"
   ]
  },
  {
   "cell_type": "markdown",
   "id": "25fda912-ad95-47ef-a135-e49f052d4272",
   "metadata": {},
   "source": [
    "### **Phân tích 3 (b2): Khách hàng thường mua vào thời gian nào trong ngày?**"
   ]
  },
  {
   "cell_type": "code",
   "execution_count": 20,
   "id": "1a003ce2-d276-4f66-bb02-752f663dd081",
   "metadata": {
    "collapsed": true,
    "jupyter": {
     "outputs_hidden": true
    }
   },
   "outputs": [
    {
     "name": "stdout",
     "output_type": "stream",
     "text": [
      "Số lượng bán theo giờ:\n",
      "    hour     time_range  quantity_sold\n",
      "0      0  00:00 - 01:00           2717\n",
      "1      1  01:00 - 02:00           1289\n",
      "2      2  02:00 - 03:00            584\n",
      "3      3  03:00 - 04:00            314\n",
      "4      4  04:00 - 05:00            244\n",
      "5      5  05:00 - 06:00            218\n",
      "6      6  06:00 - 07:00            556\n",
      "7      7  07:00 - 08:00           1377\n",
      "8      8  08:00 - 09:00           3377\n",
      "9      9  09:00 - 10:00           5449\n",
      "10    10  10:00 - 11:00           7034\n",
      "11    11  11:00 - 12:00           7432\n",
      "12    12  12:00 - 13:00           6819\n",
      "13    13  13:00 - 14:00           7403\n",
      "14    14  14:00 - 15:00           7565\n",
      "15    15  15:00 - 16:00           7370\n",
      "16    16  16:00 - 17:00           7653\n",
      "17    17  17:00 - 18:00           7010\n",
      "18    18  18:00 - 19:00           6550\n",
      "19    19  19:00 - 20:00           6716\n",
      "20    20  20:00 - 21:00           6875\n",
      "21    21  21:00 - 22:00           6920\n",
      "22    22  22:00 - 23:00           6541\n",
      "23    23  23:00 - 00:00           4637\n"
     ]
    }
   ],
   "source": [
    "# Tạo cột giờ từ thời gian đặt hàng\n",
    "orders['hour'] = orders['order_purchase_timestamp'].dt.hour\n",
    "\n",
    "# Gộp dữ liệu để tính số lượng bán theo giờ\n",
    "merged_data_by_hour = pd.merge(order_items, orders[['order_id', 'hour']], on='order_id', how='left')\n",
    "quantity_sold_by_hour = merged_data_by_hour.groupby(['hour']).size().reset_index(name='quantity_sold')\n",
    "\n",
    "# Thêm cột khoảng thời gian dạng 'HH:00 - HH+1:00'\n",
    "quantity_sold_by_hour['time_range'] = quantity_sold_by_hour['hour'].apply(\n",
    "    lambda h: f\"{h:02d}:00 - {(h + 1)%24:02d}:00\"\n",
    ")\n",
    "\n",
    "# In kết quả\n",
    "print(\"Số lượng bán theo giờ:\")\n",
    "print(quantity_sold_by_hour[['hour','time_range', 'quantity_sold']])\n"
   ]
  },
  {
   "cell_type": "markdown",
   "id": "ff1ceddf-1f7f-4146-a0fc-93b2e11666d2",
   "metadata": {},
   "source": [
    "### **Phân tích 4 (b3): Tỷ lệ khách hàng quay lại mua lần 2 là bao nhiêu?**\n",
    "\n",
    "Cần bảng `cusstomers` => Phân tích sau"
   ]
  },
  {
   "cell_type": "markdown",
   "id": "73784695-88c6-47a5-a861-028f9fc349b1",
   "metadata": {},
   "source": [
    "### **Phân tích 4 (c1): Thời gian giao hàng trung bình là bao lâu?**\n",
    "\n",
    "Tính thời gian trung bình từ lúc đơn hàng được duyệt (`order_approved_at`) đến khi khách nhận được hàng (`order_delivered_customer_date`)"
   ]
  },
  {
   "cell_type": "code",
   "execution_count": 36,
   "id": "3ee57673-2482-4c0a-81d7-657370bbd109",
   "metadata": {},
   "outputs": [
    {
     "name": "stdout",
     "output_type": "stream",
     "text": [
      "Thời gian giao hàng trung bình: 12 ngày 3 giờ 16 phút\n"
     ]
    }
   ],
   "source": [
    "orders['delivery_time'] = orders['order_delivered_customer_date'] - orders['order_approved_at']\n",
    "\n",
    "# Tính trung bình\n",
    "average_delivery_time = orders['delivery_time'].mean()\n",
    "\n",
    "days = average_delivery_time.days\n",
    "seconds = average_delivery_time.seconds\n",
    "hours = seconds // 3600\n",
    "minutes = (seconds % 3600) // 60\n",
    "\n",
    "# In ra định dạng rõ ràng\n",
    "print(f\"Thời gian giao hàng trung bình: {days} ngày {hours} giờ {minutes} phút\")"
   ]
  },
  {
   "cell_type": "markdown",
   "id": "2d5d4daa-c29a-4014-b67f-8222b62eea7d",
   "metadata": {},
   "source": [
    "### **Phân tích 5 (c2): Có bao nhiêu đơn bị giao trễ? Tỷ lệ là bao nhiêu?**"
   ]
  },
  {
   "cell_type": "code",
   "execution_count": 39,
   "id": "341073bb-f8f9-40f4-80c6-e06bfe6683d5",
   "metadata": {},
   "outputs": [
    {
     "name": "stdout",
     "output_type": "stream",
     "text": [
      "Số đơn bị giao trễ: 8123\n",
      "Tỷ lệ đơn bị giao trễ: 8.17%\n"
     ]
    }
   ],
   "source": [
    "# Tạo cột kiểm tra đơn có bị giao trễ hay không\n",
    "orders['is_late'] = orders['order_delivered_customer_date'] > orders['order_estimated_delivery_date']\n",
    "\n",
    "# Đếm số đơn bị trễ\n",
    "num_late_orders = orders['is_late'].sum()\n",
    "\n",
    "# Tổng số đơn đã giao\n",
    "total_delivered_orders = len(orders)\n",
    "\n",
    "# Tính tỷ lệ trễ\n",
    "late_delivery_rate = num_late_orders / total_delivered_orders\n",
    "\n",
    "# In kết quả\n",
    "print(f\"Số đơn bị giao trễ: {num_late_orders}\")\n",
    "print(f\"Tỷ lệ đơn bị giao trễ: {late_delivery_rate:.2%}\")"
   ]
  }
 ],
 "metadata": {
  "kernelspec": {
   "display_name": "Python 3 (ipykernel)",
   "language": "python",
   "name": "python3"
  },
  "language_info": {
   "codemirror_mode": {
    "name": "ipython",
    "version": 3
   },
   "file_extension": ".py",
   "mimetype": "text/x-python",
   "name": "python",
   "nbconvert_exporter": "python",
   "pygments_lexer": "ipython3",
   "version": "3.9.13"
  }
 },
 "nbformat": 4,
 "nbformat_minor": 5
}
