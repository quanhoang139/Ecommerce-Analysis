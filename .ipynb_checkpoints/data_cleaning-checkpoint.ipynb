{
 "cells": [
  {
   "cell_type": "markdown",
   "id": "f9304dd0",
   "metadata": {},
   "source": [
    "# **Dự án phân tích dữ liệu thương mại điện tử - Làm sạch dữ liệu**\n",
    "\n",
    "### Mục tiêu\n",
    "- Xử lý các vấn đề trong bộ dữ liệu Brazilian E-Commerce Public Dataset (~100,000 dòng).\n",
    "- Chuẩn bị dữ liệu cho phân tích (doanh thu, sản phẩm, hành vi khách hàng).\n",
    "\n",
    "### Dữ liệu đầu vào\n",
    "- `olist_orders_dataset.csv`: Thông tin đơn hàng (~99,441 dòng).\n",
    "- `olist_order_items_dataset.csv`: Chi tiết sản phẩm (~112,650 dòng)."
   ]
  },
  {
   "cell_type": "code",
   "execution_count": 30,
   "id": "53daf664-5e8b-440f-8417-dd958c678c71",
   "metadata": {
    "collapsed": true,
    "jupyter": {
     "outputs_hidden": true,
     "source_hidden": true
    }
   },
   "outputs": [
    {
     "name": "stdout",
     "output_type": "stream",
     "text": [
      "Thông tin orders:\n",
      "<class 'pandas.core.frame.DataFrame'>\n",
      "RangeIndex: 99441 entries, 0 to 99440\n",
      "Data columns (total 8 columns):\n",
      " #   Column                         Non-Null Count  Dtype \n",
      "---  ------                         --------------  ----- \n",
      " 0   order_id                       99441 non-null  object\n",
      " 1   customer_id                    99441 non-null  object\n",
      " 2   order_status                   99441 non-null  object\n",
      " 3   order_purchase_timestamp       99441 non-null  object\n",
      " 4   order_approved_at              99281 non-null  object\n",
      " 5   order_delivered_carrier_date   97658 non-null  object\n",
      " 6   order_delivered_customer_date  96476 non-null  object\n",
      " 7   order_estimated_delivery_date  99441 non-null  object\n",
      "dtypes: object(8)\n",
      "memory usage: 6.1+ MB\n",
      "None\n",
      "\n",
      "Thông tin order_items:\n",
      "<class 'pandas.core.frame.DataFrame'>\n",
      "RangeIndex: 112650 entries, 0 to 112649\n",
      "Data columns (total 7 columns):\n",
      " #   Column               Non-Null Count   Dtype  \n",
      "---  ------               --------------   -----  \n",
      " 0   order_id             112650 non-null  object \n",
      " 1   order_item_id        112650 non-null  int64  \n",
      " 2   product_id           112650 non-null  object \n",
      " 3   seller_id            112650 non-null  object \n",
      " 4   shipping_limit_date  112650 non-null  object \n",
      " 5   price                112650 non-null  float64\n",
      " 6   freight_value        112650 non-null  float64\n",
      "dtypes: float64(2), int64(1), object(4)\n",
      "memory usage: 6.0+ MB\n",
      "None\n"
     ]
    }
   ],
   "source": [
    "# Kiểm tra thông tin ban đầu\n",
    "# Import thư viện cần thiết\n",
    "import pandas as pd\n",
    "\n",
    "# Đọc file CSV\n",
    "orders = pd.read_csv('data/original_data/olist_orders_dataset.csv')\n",
    "order_items = pd.read_csv('data/original_data/olist_order_items_dataset.csv')\n",
    "\n",
    "# Xem thông tin cơ bản\n",
    "print(\"Thông tin orders:\")\n",
    "print(orders.info())\n",
    "print(\"\\nThông tin order_items:\")\n",
    "print(order_items.info())"
   ]
  },
  {
   "cell_type": "markdown",
   "id": "9cc00610-a2e8-4293-b179-30b582a68f68",
   "metadata": {
    "jp-MarkdownHeadingCollapsed": true
   },
   "source": [
    "## **Bước 1: Kiểm tra lại dữ liệu**"
   ]
  },
  {
   "cell_type": "code",
   "execution_count": 31,
   "id": "e2553658-619b-47f3-9a78-cc37c47ba708",
   "metadata": {
    "jupyter": {
     "source_hidden": true
    }
   },
   "outputs": [
    {
     "name": "stdout",
     "output_type": "stream",
     "text": [
      "Kích thước orders: (99441, 8)\n",
      "Kích thước order_items: (112650, 7)\n",
      "\n",
      "Kiểu dữ liệu orders:\n",
      "order_id                    object\n",
      "customer_id                 object\n",
      "order_status                object\n",
      "order_purchase_timestamp    object\n",
      "order_approved_at           object\n",
      "dtype: object\n",
      "\n",
      "Kiểu dữ liệu order_items:\n",
      "order_id               object\n",
      "order_item_id           int64\n",
      "product_id             object\n",
      "seller_id              object\n",
      "shipping_limit_date    object\n",
      "dtype: object\n"
     ]
    }
   ],
   "source": [
    "# Kiểm tra kích thước và kiểu dữ liệu\n",
    "# Kiểm tra kích thước\n",
    "print(\"Kích thước orders:\", orders.shape)\n",
    "print(\"Kích thước order_items:\", order_items.shape)\n",
    "\n",
    "# Kiểm tra kiểu dữ liệu\n",
    "print(\"\\nKiểu dữ liệu orders:\")\n",
    "print(orders.dtypes.head())\n",
    "print(\"\\nKiểu dữ liệu order_items:\")\n",
    "print(order_items.dtypes.head())"
   ]
  },
  {
   "cell_type": "code",
   "execution_count": 32,
   "id": "a5ab3b2c-148b-466e-9dc2-970564d227ad",
   "metadata": {
    "jupyter": {
     "source_hidden": true
    }
   },
   "outputs": [
    {
     "name": "stdout",
     "output_type": "stream",
     "text": [
      "Giá trị thiếu trong orders:\n",
      "order_id                            0\n",
      "customer_id                         0\n",
      "order_status                        0\n",
      "order_purchase_timestamp            0\n",
      "order_approved_at                 160\n",
      "order_delivered_carrier_date     1783\n",
      "order_delivered_customer_date    2965\n",
      "order_estimated_delivery_date       0\n",
      "dtype: int64\n",
      "\n",
      "Giá trị thiếu trong order_items:\n",
      "order_id               0\n",
      "order_item_id          0\n",
      "product_id             0\n",
      "seller_id              0\n",
      "shipping_limit_date    0\n",
      "price                  0\n",
      "freight_value          0\n",
      "dtype: int64\n"
     ]
    }
   ],
   "source": [
    "# Kiểm tra số lượng giá trị thiếu\n",
    "print(\"Giá trị thiếu trong orders:\")\n",
    "print(orders.isnull().sum())\n",
    "print(\"\\nGiá trị thiếu trong order_items:\")\n",
    "print(order_items.isnull().sum())"
   ]
  },
  {
   "cell_type": "markdown",
   "id": "cca1097b-4709-4fab-a78e-ac44eb8d4aa8",
   "metadata": {
    "jp-MarkdownHeadingCollapsed": true
   },
   "source": [
    "### Kết quả kiểm tra ban đầu\n",
    "- **Số dòng/cột**: \n",
    "  - `orders`: (99441,8)\n",
    "  - `order_items`: (112650, 7)\n",
    "- **Kiểu dữ liệu**: \n",
    "  - `order_purchase_timestamp` hiện là object, cần chuyển thành datetime.\n",
    "  - `price` và `freight_value` là float64, kiểm tra giá trị bất thường.\n",
    "- **Vấn đề tiềm ẩn**: \n",
    "  - Giá trị thiếu trong bảng `orders`.\n",
    "  - Có thể có giá trị âm hoặc quá cao trong `price`/`freight_value`."
   ]
  },
  {
   "cell_type": "markdown",
   "id": "035935c8-60a2-4a3d-acde-886c231bba71",
   "metadata": {
    "jp-MarkdownHeadingCollapsed": true
   },
   "source": [
    "## **Bước 2: Chuyển đổi kiểu dữ liệu và Xử lý giá trị thiếu**"
   ]
  },
  {
   "cell_type": "markdown",
   "id": "f83084c1-e026-4890-a7f8-51b3c1e75d08",
   "metadata": {},
   "source": [
    "### Mục tiêu\n",
    "- Xử lý các giá trị thiếu trong `order_delivered_customer_date` của bảng `orders`.\n",
    "- Đảm bảo dữ liệu sẵn sàng cho phân tích.\n",
    "\n",
    "### Ghi chú\n",
    "- Theo kiểm tra ban đầu, `order_approved_at` có 160, `order_approved_at` có 1783, và `order_delivered_customer_date` có 2965 giá trị thiếu.\n",
    "- Nguyễn nhân: Chủ yếu do tại thời điểm cập nhật, đơn hàng chưa đến bước xử lý đó\n",
    "- Chiến lược: Điền giá trị dự kiến (ngày mua + 7 ngày) hoặc để trống tùy chọn."
   ]
  },
  {
   "cell_type": "code",
   "execution_count": 33,
   "id": "2f7ceea0-39a6-4f58-b1f6-e8d1daa15630",
   "metadata": {
    "jupyter": {
     "source_hidden": true
    }
   },
   "outputs": [
    {
     "name": "stdout",
     "output_type": "stream",
     "text": [
      "<class 'pandas.core.frame.DataFrame'>\n",
      "RangeIndex: 99441 entries, 0 to 99440\n",
      "Data columns (total 8 columns):\n",
      " #   Column                         Non-Null Count  Dtype         \n",
      "---  ------                         --------------  -----         \n",
      " 0   order_id                       99441 non-null  object        \n",
      " 1   customer_id                    99441 non-null  object        \n",
      " 2   order_status                   99441 non-null  object        \n",
      " 3   order_purchase_timestamp       99441 non-null  datetime64[ns]\n",
      " 4   order_approved_at              99281 non-null  datetime64[ns]\n",
      " 5   order_delivered_carrier_date   97658 non-null  datetime64[ns]\n",
      " 6   order_delivered_customer_date  96476 non-null  datetime64[ns]\n",
      " 7   order_estimated_delivery_date  99441 non-null  datetime64[ns]\n",
      "dtypes: datetime64[ns](5), object(3)\n",
      "memory usage: 6.1+ MB\n",
      "<class 'pandas.core.frame.DataFrame'>\n",
      "RangeIndex: 112650 entries, 0 to 112649\n",
      "Data columns (total 7 columns):\n",
      " #   Column               Non-Null Count   Dtype         \n",
      "---  ------               --------------   -----         \n",
      " 0   order_id             112650 non-null  object        \n",
      " 1   order_item_id        112650 non-null  int64         \n",
      " 2   product_id           112650 non-null  object        \n",
      " 3   seller_id            112650 non-null  object        \n",
      " 4   shipping_limit_date  112650 non-null  datetime64[ns]\n",
      " 5   price                112650 non-null  float64       \n",
      " 6   freight_value        112650 non-null  float64       \n",
      "dtypes: datetime64[ns](1), float64(2), int64(1), object(3)\n",
      "memory usage: 6.0+ MB\n"
     ]
    }
   ],
   "source": [
    "#Chuyển đổi kiểu dữ liệu các cột thời gian\n",
    "date_columns = [\n",
    "    'order_purchase_timestamp',\n",
    "    'order_approved_at',\n",
    "    'order_delivered_carrier_date',\n",
    "    'order_delivered_customer_date',\n",
    "    'order_estimated_delivery_date'\n",
    "]\n",
    "\n",
    "# Chuyển kiểu dữ liệu các cột ngày sang datetime\n",
    "for col in date_columns:\n",
    "    orders[col] = pd.to_datetime(orders[col])\n",
    "\n",
    "order_items['shipping_limit_date'] = pd.to_datetime(order_items['shipping_limit_date'], errors='coerce')\n",
    "orders.info()  # để xác nhận kiểu dữ liệu đã đổi\n",
    "order_items.info()"
   ]
  },
  {
   "cell_type": "code",
   "execution_count": 34,
   "id": "1a61a7d6-08bf-427d-a31f-aa8af0189f52",
   "metadata": {
    "jupyter": {
     "source_hidden": true
    }
   },
   "outputs": [
    {
     "name": "stdout",
     "output_type": "stream",
     "text": [
      "<class 'pandas.core.frame.DataFrame'>\n",
      "RangeIndex: 99441 entries, 0 to 99440\n",
      "Data columns (total 8 columns):\n",
      " #   Column                         Non-Null Count  Dtype         \n",
      "---  ------                         --------------  -----         \n",
      " 0   order_id                       99441 non-null  object        \n",
      " 1   customer_id                    99441 non-null  object        \n",
      " 2   order_status                   99441 non-null  object        \n",
      " 3   order_purchase_timestamp       99441 non-null  datetime64[ns]\n",
      " 4   order_approved_at              99441 non-null  datetime64[ns]\n",
      " 5   order_delivered_carrier_date   99441 non-null  datetime64[ns]\n",
      " 6   order_delivered_customer_date  99441 non-null  datetime64[ns]\n",
      " 7   order_estimated_delivery_date  99441 non-null  datetime64[ns]\n",
      "dtypes: datetime64[ns](5), object(3)\n",
      "memory usage: 6.1+ MB\n"
     ]
    }
   ],
   "source": [
    "# Điền giá trị thiếu\n",
    "# 1. Tính khoảng cách trung bình (mean timedelta) từ các bản ghi đủ dữ liệu\n",
    "delta_approved = (orders['order_approved_at'] - orders['order_purchase_timestamp']).mean()\n",
    "delta_carrier = (orders['order_delivered_carrier_date'] - orders['order_approved_at']).mean()\n",
    "delta_customer = (orders['order_delivered_customer_date'] - orders['order_delivered_carrier_date']).mean()\n",
    "delta_estimated = (orders['order_estimated_delivery_date'] - orders['order_approved_at']).mean()\n",
    "\n",
    "# 2. Điền giá trị thiếu \n",
    "orders.loc[orders['order_approved_at'].isna(), 'order_approved_at'] = orders['order_purchase_timestamp'] + delta_approved\n",
    "\n",
    "orders.loc[orders['order_delivered_carrier_date'].isna(), 'order_delivered_carrier_date'] = orders['order_approved_at'] + delta_carrier\n",
    "\n",
    "orders.loc[orders['order_delivered_customer_date'].isna(), 'order_delivered_customer_date'] = orders['order_delivered_carrier_date'] + delta_customer\n",
    "\n",
    "orders.loc[orders['order_estimated_delivery_date'].isna(), 'order_estimated_delivery_date'] = orders['order_approved_at'] + delta_estimated\n",
    "\n",
    "orders.info()  # để xác nhận kiểu dữ liệu đã đủ"
   ]
  },
  {
   "cell_type": "markdown",
   "id": "cb871c1d-e9cb-4d12-ac98-d33ad10ceef5",
   "metadata": {
    "jp-MarkdownHeadingCollapsed": true
   },
   "source": [
    "## **Bước 3: Kiểm tra và xử lý bất thường**"
   ]
  },
  {
   "cell_type": "markdown",
   "id": "63541f75-2294-4203-9300-13d072ae6845",
   "metadata": {},
   "source": [
    "### Mục tiêu\n",
    "- Phát hiện các giá trị bất thường (outliers) trong `price` và `freight_value` của `order_items`.\n",
    "- Loại bỏ hoặc điều chỉnh các giá trị không hợp lý (ví dụ: giá âm, quá cao).\n",
    "\n",
    "### Ghi chú\n",
    "- Giá trị bất thường có thể là giá âm, giá quá cao (ví dụ: >10,000 BRL), hoặc phí vận chuyển bất thường.\n",
    "- Sử dụng ngưỡng hợp lý dựa trên phân phối dữ liệu."
   ]
  },
  {
   "cell_type": "code",
   "execution_count": 35,
   "id": "3990a5e3-9f13-42d8-828c-ac6d081f5f07",
   "metadata": {
    "jupyter": {
     "source_hidden": true
    }
   },
   "outputs": [
    {
     "name": "stdout",
     "output_type": "stream",
     "text": [
      "Thống kê price:\n",
      "count    112650.000000\n",
      "mean        120.653739\n",
      "std         183.633928\n",
      "min           0.850000\n",
      "25%          39.900000\n",
      "50%          74.990000\n",
      "75%         134.900000\n",
      "max        6735.000000\n",
      "Name: price, dtype: float64\n",
      "\n",
      "Thống kê freight_value:\n",
      "count    112650.000000\n",
      "mean         19.990320\n",
      "std          15.806405\n",
      "min           0.000000\n",
      "25%          13.080000\n",
      "50%          16.260000\n",
      "75%          21.150000\n",
      "max         409.680000\n",
      "Name: freight_value, dtype: float64\n"
     ]
    }
   ],
   "source": [
    "# Thống kê mô tả cho price và freight_value\n",
    "print(\"Thống kê price:\")\n",
    "print(order_items['price'].describe())\n",
    "print(\"\\nThống kê freight_value:\")\n",
    "print(order_items['freight_value'].describe())"
   ]
  },
  {
   "cell_type": "markdown",
   "id": "4598db71-1f3c-41d5-a851-227e1a23825b",
   "metadata": {},
   "source": [
    "### Kết quả kiểm tra ban đầu\n",
    "- `price`: Giá tối đa 6735.00, giá tối thiểu 0.85.\n",
    "- `freight_value`: Phí vận chuyển tối đa 409.68, phí tối thiểu 0.00.\n",
    "- **Quan sát**: Không có giá âm hoặc quá lớn (do lỗi nhập liệu), giá bán > 0, phí vận chuyển có thể bằng 0 (free shipping) -> không cần loại bỏ outline."
   ]
  },
  {
   "cell_type": "markdown",
   "id": "e50bf8b2-5b50-4a5c-ad95-e4546414bec5",
   "metadata": {
    "jp-MarkdownHeadingCollapsed": true
   },
   "source": [
    "## **Bước 4: Kiểm tra và xử lý trùng lặp**"
   ]
  },
  {
   "cell_type": "markdown",
   "id": "219c3d0f-8e37-4972-a8b7-a6dc00c7d14d",
   "metadata": {},
   "source": [
    "### Mục tiêu\n",
    "- Kiểm tra xem có dòng trùng lặp trong `orders` và `order_items` không.\n",
    "- Loại bỏ các dòng trùng lặp để đảm bảo dữ liệu không bị nhân đôi.\n",
    "\n",
    "### Ghi chú\n",
    "- Trùng lặp có thể xảy ra do lỗi nhập liệu hoặc sao chép dữ liệu.\n",
    "- Sử dụng phương pháp giữ dòng đầu tiên khi xóa trùng lặp."
   ]
  },
  {
   "cell_type": "code",
   "execution_count": 36,
   "id": "12eef612-467e-40b6-9b3d-841b5a5db9e8",
   "metadata": {
    "collapsed": true,
    "jupyter": {
     "outputs_hidden": true,
     "source_hidden": true
    }
   },
   "outputs": [
    {
     "name": "stdout",
     "output_type": "stream",
     "text": [
      "Số dòng trùng lặp trong orders: 0\n",
      "Số dòng trùng lặp trong order_items: 0\n"
     ]
    }
   ],
   "source": [
    "# Kiểm tra số lượng dòng trùng lặp\n",
    "duplicates_orders = orders.duplicated().sum()\n",
    "duplicates_order_items = order_items.duplicated().sum()\n",
    "\n",
    "print(\"Số dòng trùng lặp trong orders:\", duplicates_orders)\n",
    "print(\"Số dòng trùng lặp trong order_items:\", duplicates_order_items)"
   ]
  },
  {
   "cell_type": "code",
   "execution_count": 37,
   "id": "0a2997d6-6574-4a28-b31e-e0a036c6b980",
   "metadata": {
    "collapsed": true,
    "jupyter": {
     "outputs_hidden": true,
     "source_hidden": true
    }
   },
   "outputs": [
    {
     "name": "stdout",
     "output_type": "stream",
     "text": [
      "\n",
      "Số dòng trong orders trước khi xóa: 99441\n",
      "Số dòng trong orders sau khi xóa: 99441\n",
      "Số dòng trong order_items trước khi xóa: 112650\n",
      "Số dòng trong order_items sau khi xóa: 112650\n"
     ]
    }
   ],
   "source": [
    "# Xóa dòng trùng lặp, giữ dòng đầu tiên\n",
    "orders_cleaned = orders.drop_duplicates()\n",
    "order_items_cleaned = order_items.drop_duplicates()\n",
    "\n",
    "# Kiểm tra số dòng trước và sau khi xóa\n",
    "print(\"\\nSố dòng trong orders trước khi xóa:\", orders.shape[0])\n",
    "print(\"Số dòng trong orders sau khi xóa:\", orders_cleaned.shape[0])\n",
    "print(\"Số dòng trong order_items trước khi xóa:\", order_items.shape[0])\n",
    "print(\"Số dòng trong order_items sau khi xóa:\", order_items_cleaned.shape[0])"
   ]
  },
  {
   "cell_type": "code",
   "execution_count": 38,
   "id": "78734cdf-74e5-40b6-9f5b-eaf3b8c7d1f7",
   "metadata": {
    "collapsed": true,
    "jupyter": {
     "outputs_hidden": true,
     "source_hidden": true
    }
   },
   "outputs": [
    {
     "name": "stdout",
     "output_type": "stream",
     "text": [
      "\n",
      "Số dòng trùng lặp còn lại trong orders: 0\n",
      "Số dòng trùng lặp còn lại trong order_items: 0\n"
     ]
    }
   ],
   "source": [
    "# Cập nhật lại dữ liệu\n",
    "orders = orders_cleaned\n",
    "order_items = order_items_cleaned\n",
    "\n",
    "# Xác nhận không còn trùng lặp\n",
    "print(\"\\nSố dòng trùng lặp còn lại trong orders:\", orders.duplicated().sum())\n",
    "print(\"Số dòng trùng lặp còn lại trong order_items:\", order_items.duplicated().sum())"
   ]
  },
  {
   "cell_type": "markdown",
   "id": "115cb1c7-f309-454c-9fd5-0d0e2dd08d69",
   "metadata": {
    "jp-MarkdownHeadingCollapsed": true
   },
   "source": [
    "## **Bước 5: Lưu dữ liệu đã làm sạch**\n"
   ]
  },
  {
   "cell_type": "markdown",
   "id": "46456a14-afa8-4a88-a3b9-35d0c77fcdb0",
   "metadata": {},
   "source": [
    "### Mục tiêu\n",
    "- Lưu các bảng `orders` và `order_items` đã được làm sạch thành file CSV mới.\n",
    "- Đảm bảo dữ liệu được bảo quản và sẵn sàng cho bước phân tích.\n",
    "\n",
    "### Ghi chú\n",
    "- File CSV mới sẽ được lưu trong thư mục `Ecommerce_Analysis\\data\\cleaned_data` với tên `cleaned_orders.csv` và `cleaned_order_items.csv`.\n",
    "- Không lưu chỉ số hàng (`index=False`) để tránh cột thừa."
   ]
  },
  {
   "cell_type": "code",
   "execution_count": 39,
   "id": "eb89dda1-cd94-4bb2-ab78-621a9f6782dd",
   "metadata": {
    "collapsed": true,
    "jupyter": {
     "outputs_hidden": true,
     "source_hidden": true
    }
   },
   "outputs": [
    {
     "name": "stdout",
     "output_type": "stream",
     "text": [
      "Đã lưu cleaned_orders.csv và cleaned_order_items.csv thành công.\n"
     ]
    }
   ],
   "source": [
    "# Lưu dữ liệu đã làm sạch\n",
    "orders.to_csv('D:/Ecommerce_Analysis/data/cleaned_data/cleaned_orders.csv', index=False)\n",
    "order_items.to_csv('D:/Ecommerce_Analysis/data/cleaned_data/cleaned_order_items.csv', index=False)\n",
    "\n",
    "# Xác nhận file đã lưu\n",
    "print(\"Đã lưu cleaned_orders.csv và cleaned_order_items.csv thành công.\")"
   ]
  },
  {
   "cell_type": "code",
   "execution_count": 40,
   "id": "467fec45-c974-4096-ab13-13d377f0b37b",
   "metadata": {
    "collapsed": true,
    "jupyter": {
     "outputs_hidden": true,
     "source_hidden": true
    }
   },
   "outputs": [
    {
     "name": "stdout",
     "output_type": "stream",
     "text": [
      "5 dòng đầu của cleaned_orders:\n"
     ]
    },
    {
     "data": {
      "text/html": [
       "<div>\n",
       "<style scoped>\n",
       "    .dataframe tbody tr th:only-of-type {\n",
       "        vertical-align: middle;\n",
       "    }\n",
       "\n",
       "    .dataframe tbody tr th {\n",
       "        vertical-align: top;\n",
       "    }\n",
       "\n",
       "    .dataframe thead th {\n",
       "        text-align: right;\n",
       "    }\n",
       "</style>\n",
       "<table border=\"1\" class=\"dataframe\">\n",
       "  <thead>\n",
       "    <tr style=\"text-align: right;\">\n",
       "      <th></th>\n",
       "      <th>order_id</th>\n",
       "      <th>customer_id</th>\n",
       "      <th>order_status</th>\n",
       "      <th>order_purchase_timestamp</th>\n",
       "      <th>order_approved_at</th>\n",
       "      <th>order_delivered_carrier_date</th>\n",
       "      <th>order_delivered_customer_date</th>\n",
       "      <th>order_estimated_delivery_date</th>\n",
       "    </tr>\n",
       "  </thead>\n",
       "  <tbody>\n",
       "    <tr>\n",
       "      <th>0</th>\n",
       "      <td>e481f51cbdc54678b7cc49136f2d6af7</td>\n",
       "      <td>9ef432eb6251297304e76186b10a928d</td>\n",
       "      <td>delivered</td>\n",
       "      <td>2017-10-02 10:56:33</td>\n",
       "      <td>2017-10-02 11:07:15.000000000</td>\n",
       "      <td>2017-10-04 19:55:00.000000000</td>\n",
       "      <td>2017-10-10 21:25:13.000000000</td>\n",
       "      <td>2017-10-18</td>\n",
       "    </tr>\n",
       "    <tr>\n",
       "      <th>1</th>\n",
       "      <td>53cdb2fc8bc7dce0b6741e2150273451</td>\n",
       "      <td>b0830fb4747a6c6d20dea0b8c802d7ef</td>\n",
       "      <td>delivered</td>\n",
       "      <td>2018-07-24 20:41:37</td>\n",
       "      <td>2018-07-26 03:24:27.000000000</td>\n",
       "      <td>2018-07-26 14:31:00.000000000</td>\n",
       "      <td>2018-08-07 15:27:45.000000000</td>\n",
       "      <td>2018-08-13</td>\n",
       "    </tr>\n",
       "    <tr>\n",
       "      <th>2</th>\n",
       "      <td>47770eb9100c2d0c44946d9cf07ec65d</td>\n",
       "      <td>41ce2a54c0b03bf3443c3d931a367089</td>\n",
       "      <td>delivered</td>\n",
       "      <td>2018-08-08 08:38:49</td>\n",
       "      <td>2018-08-08 08:55:23.000000000</td>\n",
       "      <td>2018-08-08 13:50:00.000000000</td>\n",
       "      <td>2018-08-17 18:06:29.000000000</td>\n",
       "      <td>2018-09-04</td>\n",
       "    </tr>\n",
       "    <tr>\n",
       "      <th>3</th>\n",
       "      <td>949d5b44dbf5de918fe9c16f97b45f8a</td>\n",
       "      <td>f88197465ea7920adcdbec7375364d82</td>\n",
       "      <td>delivered</td>\n",
       "      <td>2017-11-18 19:28:06</td>\n",
       "      <td>2017-11-18 19:45:59.000000000</td>\n",
       "      <td>2017-11-22 13:39:59.000000000</td>\n",
       "      <td>2017-12-02 00:28:42.000000000</td>\n",
       "      <td>2017-12-15</td>\n",
       "    </tr>\n",
       "    <tr>\n",
       "      <th>4</th>\n",
       "      <td>ad21c59c0840e6cb83a9ceb5573f8159</td>\n",
       "      <td>8ab97904e6daea8866dbdbc4fb7aad2c</td>\n",
       "      <td>delivered</td>\n",
       "      <td>2018-02-13 21:18:39</td>\n",
       "      <td>2018-02-13 22:20:29.000000000</td>\n",
       "      <td>2018-02-14 19:46:34.000000000</td>\n",
       "      <td>2018-02-16 18:17:02.000000000</td>\n",
       "      <td>2018-02-26</td>\n",
       "    </tr>\n",
       "  </tbody>\n",
       "</table>\n",
       "</div>"
      ],
      "text/plain": [
       "                           order_id                       customer_id  \\\n",
       "0  e481f51cbdc54678b7cc49136f2d6af7  9ef432eb6251297304e76186b10a928d   \n",
       "1  53cdb2fc8bc7dce0b6741e2150273451  b0830fb4747a6c6d20dea0b8c802d7ef   \n",
       "2  47770eb9100c2d0c44946d9cf07ec65d  41ce2a54c0b03bf3443c3d931a367089   \n",
       "3  949d5b44dbf5de918fe9c16f97b45f8a  f88197465ea7920adcdbec7375364d82   \n",
       "4  ad21c59c0840e6cb83a9ceb5573f8159  8ab97904e6daea8866dbdbc4fb7aad2c   \n",
       "\n",
       "  order_status order_purchase_timestamp              order_approved_at  \\\n",
       "0    delivered      2017-10-02 10:56:33  2017-10-02 11:07:15.000000000   \n",
       "1    delivered      2018-07-24 20:41:37  2018-07-26 03:24:27.000000000   \n",
       "2    delivered      2018-08-08 08:38:49  2018-08-08 08:55:23.000000000   \n",
       "3    delivered      2017-11-18 19:28:06  2017-11-18 19:45:59.000000000   \n",
       "4    delivered      2018-02-13 21:18:39  2018-02-13 22:20:29.000000000   \n",
       "\n",
       "    order_delivered_carrier_date  order_delivered_customer_date  \\\n",
       "0  2017-10-04 19:55:00.000000000  2017-10-10 21:25:13.000000000   \n",
       "1  2018-07-26 14:31:00.000000000  2018-08-07 15:27:45.000000000   \n",
       "2  2018-08-08 13:50:00.000000000  2018-08-17 18:06:29.000000000   \n",
       "3  2017-11-22 13:39:59.000000000  2017-12-02 00:28:42.000000000   \n",
       "4  2018-02-14 19:46:34.000000000  2018-02-16 18:17:02.000000000   \n",
       "\n",
       "  order_estimated_delivery_date  \n",
       "0                    2017-10-18  \n",
       "1                    2018-08-13  \n",
       "2                    2018-09-04  \n",
       "3                    2017-12-15  \n",
       "4                    2018-02-26  "
      ]
     },
     "metadata": {},
     "output_type": "display_data"
    },
    {
     "name": "stdout",
     "output_type": "stream",
     "text": [
      "\n",
      "5 dòng đầu của cleaned_order_items:\n"
     ]
    },
    {
     "data": {
      "text/html": [
       "<div>\n",
       "<style scoped>\n",
       "    .dataframe tbody tr th:only-of-type {\n",
       "        vertical-align: middle;\n",
       "    }\n",
       "\n",
       "    .dataframe tbody tr th {\n",
       "        vertical-align: top;\n",
       "    }\n",
       "\n",
       "    .dataframe thead th {\n",
       "        text-align: right;\n",
       "    }\n",
       "</style>\n",
       "<table border=\"1\" class=\"dataframe\">\n",
       "  <thead>\n",
       "    <tr style=\"text-align: right;\">\n",
       "      <th></th>\n",
       "      <th>order_id</th>\n",
       "      <th>order_item_id</th>\n",
       "      <th>product_id</th>\n",
       "      <th>seller_id</th>\n",
       "      <th>shipping_limit_date</th>\n",
       "      <th>price</th>\n",
       "      <th>freight_value</th>\n",
       "    </tr>\n",
       "  </thead>\n",
       "  <tbody>\n",
       "    <tr>\n",
       "      <th>0</th>\n",
       "      <td>00010242fe8c5a6d1ba2dd792cb16214</td>\n",
       "      <td>1</td>\n",
       "      <td>4244733e06e7ecb4970a6e2683c13e61</td>\n",
       "      <td>48436dade18ac8b2bce089ec2a041202</td>\n",
       "      <td>2017-09-19 09:45:35</td>\n",
       "      <td>58.90</td>\n",
       "      <td>13.29</td>\n",
       "    </tr>\n",
       "    <tr>\n",
       "      <th>1</th>\n",
       "      <td>00018f77f2f0320c557190d7a144bdd3</td>\n",
       "      <td>1</td>\n",
       "      <td>e5f2d52b802189ee658865ca93d83a8f</td>\n",
       "      <td>dd7ddc04e1b6c2c614352b383efe2d36</td>\n",
       "      <td>2017-05-03 11:05:13</td>\n",
       "      <td>239.90</td>\n",
       "      <td>19.93</td>\n",
       "    </tr>\n",
       "    <tr>\n",
       "      <th>2</th>\n",
       "      <td>000229ec398224ef6ca0657da4fc703e</td>\n",
       "      <td>1</td>\n",
       "      <td>c777355d18b72b67abbeef9df44fd0fd</td>\n",
       "      <td>5b51032eddd242adc84c38acab88f23d</td>\n",
       "      <td>2018-01-18 14:48:30</td>\n",
       "      <td>199.00</td>\n",
       "      <td>17.87</td>\n",
       "    </tr>\n",
       "    <tr>\n",
       "      <th>3</th>\n",
       "      <td>00024acbcdf0a6daa1e931b038114c75</td>\n",
       "      <td>1</td>\n",
       "      <td>7634da152a4610f1595efa32f14722fc</td>\n",
       "      <td>9d7a1d34a5052409006425275ba1c2b4</td>\n",
       "      <td>2018-08-15 10:10:18</td>\n",
       "      <td>12.99</td>\n",
       "      <td>12.79</td>\n",
       "    </tr>\n",
       "    <tr>\n",
       "      <th>4</th>\n",
       "      <td>00042b26cf59d7ce69dfabb4e55b4fd9</td>\n",
       "      <td>1</td>\n",
       "      <td>ac6c3623068f30de03045865e4e10089</td>\n",
       "      <td>df560393f3a51e74553ab94004ba5c87</td>\n",
       "      <td>2017-02-13 13:57:51</td>\n",
       "      <td>199.90</td>\n",
       "      <td>18.14</td>\n",
       "    </tr>\n",
       "  </tbody>\n",
       "</table>\n",
       "</div>"
      ],
      "text/plain": [
       "                           order_id  order_item_id  \\\n",
       "0  00010242fe8c5a6d1ba2dd792cb16214              1   \n",
       "1  00018f77f2f0320c557190d7a144bdd3              1   \n",
       "2  000229ec398224ef6ca0657da4fc703e              1   \n",
       "3  00024acbcdf0a6daa1e931b038114c75              1   \n",
       "4  00042b26cf59d7ce69dfabb4e55b4fd9              1   \n",
       "\n",
       "                         product_id                         seller_id  \\\n",
       "0  4244733e06e7ecb4970a6e2683c13e61  48436dade18ac8b2bce089ec2a041202   \n",
       "1  e5f2d52b802189ee658865ca93d83a8f  dd7ddc04e1b6c2c614352b383efe2d36   \n",
       "2  c777355d18b72b67abbeef9df44fd0fd  5b51032eddd242adc84c38acab88f23d   \n",
       "3  7634da152a4610f1595efa32f14722fc  9d7a1d34a5052409006425275ba1c2b4   \n",
       "4  ac6c3623068f30de03045865e4e10089  df560393f3a51e74553ab94004ba5c87   \n",
       "\n",
       "   shipping_limit_date   price  freight_value  \n",
       "0  2017-09-19 09:45:35   58.90          13.29  \n",
       "1  2017-05-03 11:05:13  239.90          19.93  \n",
       "2  2018-01-18 14:48:30  199.00          17.87  \n",
       "3  2018-08-15 10:10:18   12.99          12.79  \n",
       "4  2017-02-13 13:57:51  199.90          18.14  "
      ]
     },
     "metadata": {},
     "output_type": "display_data"
    }
   ],
   "source": [
    "# Đọc lại dữ liệu để kiểm tra\n",
    "cleaned_orders = pd.read_csv('D:/Ecommerce_Analysis/data/cleaned_data/cleaned_orders.csv')\n",
    "cleaned_order_items = pd.read_csv('D:/Ecommerce_Analysis/data/cleaned_data/cleaned_order_items.csv')\n",
    "\n",
    "# Xem 5 dòng đầu\n",
    "print(\"5 dòng đầu của cleaned_orders:\")\n",
    "display(cleaned_orders.head())\n",
    "print(\"\\n5 dòng đầu của cleaned_order_items:\")\n",
    "display(cleaned_order_items.head())"
   ]
  }
 ],
 "metadata": {
  "kernelspec": {
   "display_name": "Python 3 (ipykernel)",
   "language": "python",
   "name": "python3"
  },
  "language_info": {
   "codemirror_mode": {
    "name": "ipython",
    "version": 3
   },
   "file_extension": ".py",
   "mimetype": "text/x-python",
   "name": "python",
   "nbconvert_exporter": "python",
   "pygments_lexer": "ipython3",
   "version": "3.9.13"
  }
 },
 "nbformat": 4,
 "nbformat_minor": 5
}
